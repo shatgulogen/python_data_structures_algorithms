{
 "cells": [
  {
   "cell_type": "code",
   "execution_count": 2,
   "id": "296f2fb8-ae80-4590-9592-42a510b2202c",
   "metadata": {},
   "outputs": [
    {
     "name": "stdout",
     "output_type": "stream",
     "text": [
      "<class 'str'>\n",
      "<class 'int'>\n",
      "<class 'float'>\n",
      "<class 'complex'>\n"
     ]
    }
   ],
   "source": [
    "p = \"Hello USA\"\n",
    "q = 10\n",
    "r = 10.2\n",
    "print(type(p))\n",
    "print(type(q))\n",
    "print(type(r))\n",
    "print(type(12+31j))"
   ]
  },
  {
   "cell_type": "code",
   "execution_count": 5,
   "id": "70c56211-2616-4e1c-a92a-ac5aeb359215",
   "metadata": {},
   "outputs": [
    {
     "name": "stdout",
     "output_type": "stream",
     "text": [
      "13.2\n",
      "<class 'float'>\n",
      "<class 'str'>\n"
     ]
    }
   ],
   "source": [
    "var = 13.2\n",
    "print(var)\n",
    "print(type (var))\n",
    "var = \"Now the type is string\"\n",
    "print(type(var))"
   ]
  },
  {
   "cell_type": "code",
   "execution_count": 6,
   "id": "e5b99e76-67b5-43cf-b6ad-f280f097727a",
   "metadata": {},
   "outputs": [
    {
     "name": "stdout",
     "output_type": "stream",
     "text": [
      "<class 'bool'>\n",
      "<class 'bool'>\n",
      "<class 'bool'>\n"
     ]
    }
   ],
   "source": [
    "print(type(bool(22)))\n",
    "print(type(True))\n",
    "print(type(False))"
   ]
  },
  {
   "cell_type": "code",
   "execution_count": 8,
   "id": "2d1fd5b7-b9c3-4c05-b364-b6688fe12f45",
   "metadata": {},
   "outputs": [
    {
     "name": "stdout",
     "output_type": "stream",
     "text": [
      "False\n"
     ]
    }
   ],
   "source": [
    "bool(False)\n",
    "print(bool(False))\n"
   ]
  },
  {
   "cell_type": "code",
   "execution_count": 9,
   "id": "9de6ea0c-fcc9-44e6-abb8-e091b141e8f3",
   "metadata": {},
   "outputs": [
    {
     "name": "stdout",
     "output_type": "stream",
     "text": [
      "False\n"
     ]
    }
   ],
   "source": [
    "va1 = 0\n",
    "print(bool(va1))\n",
    "#Any number (integer, float, complex) having a value of zero is regarded as False, and a non-zero value is regarded as True."
   ]
  },
  {
   "cell_type": "code",
   "execution_count": 10,
   "id": "f343d954-fa8e-4788-b679-dc5b6bbd43d1",
   "metadata": {},
   "outputs": [
    {
     "name": "stdout",
     "output_type": "stream",
     "text": [
      "True\n"
     ]
    }
   ],
   "source": [
    "va2 = 11\n",
    "print(bool(va2))"
   ]
  },
  {
   "cell_type": "code",
   "execution_count": 11,
   "id": "1d1a9e3a-bf44-49a4-a5a2-aa61d758396c",
   "metadata": {},
   "outputs": [
    {
     "name": "stdout",
     "output_type": "stream",
     "text": [
      "True\n"
     ]
    }
   ],
   "source": [
    "va3 = -2.3\n",
    "print(bool(va3))"
   ]
  },
  {
   "cell_type": "code",
   "execution_count": 12,
   "id": "df4d6941-4868-4367-abcd-322ccc3d3bbe",
   "metadata": {},
   "outputs": [],
   "source": [
    "#Sequence data types are used to store multiple values in a single variable in an organized and efficient way. \n",
    "#There are four basic sequence types: string, range, lists, and tuples."
   ]
  },
  {
   "cell_type": "code",
   "execution_count": 15,
   "id": "98aaa476-f373-42b2-8898-b62d4cfebe2e",
   "metadata": {},
   "outputs": [
    {
     "name": "stdout",
     "output_type": "stream",
     "text": [
      "Hello how are you\n",
      "Hello how are you\n",
      "multiline\n",
      "String\n"
     ]
    }
   ],
   "source": [
    "#A string is an immutable sequence of characters represented in single, double, or triple quotes.\n",
    "#Immutable means that once a data type has been assigned some value, it can’t be changed.\n",
    "str1 = 'Hello how are you'\n",
    "str2 = \"Hello how are you\"\n",
    "str3 = \"\"\"multiline\n",
    "String\"\"\"#A triple quote string can span into multiple lines that include all the whitespace in the string.\n",
    "print(str1)\n",
    "print(str2)\n",
    "print(str3)"
   ]
  },
  {
   "cell_type": "code",
   "execution_count": 16,
   "id": "73a08376-c230-430d-99ae-92b998786837",
   "metadata": {},
   "outputs": [
    {
     "name": "stdout",
     "output_type": "stream",
     "text": [
      "datastructure\n",
      "Data structure\n"
     ]
    }
   ],
   "source": [
    "f = 'data'\n",
    "s = 'structure'\n",
    "print(f + s)\n",
    "print('Data ' + 'structure')"
   ]
  },
  {
   "cell_type": "code",
   "execution_count": 17,
   "id": "1f81370d-655a-4db3-877d-da9d39fda295",
   "metadata": {},
   "outputs": [
    {
     "name": "stdout",
     "output_type": "stream",
     "text": [
      "data.data.data.\n",
      "data.data.data.\n"
     ]
    }
   ],
   "source": [
    "st = 'data.'\n",
    "print(st * 3)\n",
    "print(3 * st)"
   ]
  },
  {
   "cell_type": "code",
   "execution_count": 22,
   "id": "0e456de1-bf95-42fe-85e8-05713f542b6c",
   "metadata": {},
   "outputs": [
    {
     "name": "stdout",
     "output_type": "stream",
     "text": [
      "[0, 1, 2, 3, 4, 5, 6, 7, 8, 9]\n",
      "range(0, 10)\n",
      "[0, 1, 2, 3, 4, 5, 6, 7, 8, 9]\n",
      "range(1, 10, 2)\n",
      "[1, 3, 5, 7, 9]\n",
      "[20, 18, 16, 14, 12]\n"
     ]
    }
   ],
   "source": [
    "#The range data type represents an immutable sequence of numbers. It is mainly used in for and while loops.\n",
    "print(list(range(10)))\n",
    "print(range(10))\n",
    "print(list(range(10)))\n",
    "print(range(1,10,2))\n",
    "print(list(range(1,10,2)))\n",
    "print(list(range(20,10,-2)))"
   ]
  },
  {
   "cell_type": "code",
   "execution_count": 23,
   "id": "069ebd45-0547-4b49-98bb-3a0714b507bf",
   "metadata": {},
   "outputs": [
    {
     "name": "stdout",
     "output_type": "stream",
     "text": [
      "['food', 'bus', 'apple', 'queen']\n",
      "India\n"
     ]
    }
   ],
   "source": [
    "#Python lists are used to store multiple items in a single variable. \n",
    "#Duplicate values are allowed in a list, and elements can be of different types: \n",
    "#for example, you can have both numeric and string data in a Python list.\n",
    "a = ['food', 'bus', 'apple', 'queen'] \n",
    "print(a)\n",
    "mylist = [10, \"India\", \"world\", 8] # accessing elements in list. \n",
    "print(mylist[1])\n",
    "\n"
   ]
  },
  {
   "cell_type": "code",
   "execution_count": 24,
   "id": "7ed051d2-d0ec-4bf3-8cca-5cf9bbf721c6",
   "metadata": {},
   "outputs": [
    {
     "name": "stdout",
     "output_type": "stream",
     "text": [
      "elements are not overlapping\n"
     ]
    }
   ],
   "source": [
    "# Python program to check if an item (say second # item in the below example) of a list is present # in another list (or not) using 'in' operator \n",
    "mylist1 = [100,20,30,40]\n",
    "mylist2 = [10,50,60,90]\n",
    "if mylist1[1] in mylist2:\n",
    "    print(\"elements are overlapping\")\n",
    "else:\n",
    "    print(\"elements are not overlapping\")"
   ]
  },
  {
   "cell_type": "code",
   "execution_count": 26,
   "id": "7edb710e-6eb4-4ed2-9514-594511e99433",
   "metadata": {},
   "outputs": [
    {
     "name": "stdout",
     "output_type": "stream",
     "text": [
      "Value is NOT present in mylist\n"
     ]
    }
   ],
   "source": [
    "#The ‘not in' operator returns to True if it does not find a variable in the specified sequence and False if it is found\n",
    "val = 104\n",
    "mylist = [100, 210, 430, 840, 108]\n",
    "if val not in mylist:\n",
    "    print(\"Value is NOT present in mylist\")"
   ]
  },
  {
   "cell_type": "code",
   "execution_count": 27,
   "id": "e19df9da-e57b-4efd-b62f-49632ee68316",
   "metadata": {},
   "outputs": [
    {
     "name": "stdout",
     "output_type": "stream",
     "text": [
      "Both are equal\n",
      "Both variables are not pointing to the same object\n",
      "Both are not pointing to the same object\n"
     ]
    }
   ],
   "source": [
    "Firstlist = []\n",
    "Secondlist = []\n",
    "if Firstlist == Secondlist:\n",
    "    print(\"Both are equal\")\n",
    "else:\n",
    "    print(\"Both are not equal\")\n",
    "    \n",
    "if Firstlist is Secondlist:\n",
    "    print(\"Both variables are pointing to the same object\")\n",
    "else:\n",
    "    print(\"Both variables are not pointing to the same object\")\n",
    "    \n",
    "thirdList = Firstlist\n",
    "if thirdList is Secondlist:\n",
    "    print(\"Both are pointing to the same object\")\n",
    "else:\n",
    "    print(\"Both are not pointing to the same object\")"
   ]
  },
  {
   "cell_type": "code",
   "execution_count": 28,
   "id": "a91b1185-a996-4f1f-b1d3-cdaead721c12",
   "metadata": {},
   "outputs": [
    {
     "name": "stdout",
     "output_type": "stream",
     "text": [
      "Both Firstlist and Secondlist variables are the same object\n"
     ]
    }
   ],
   "source": [
    "Firstlist = []\n",
    "Secondlist = []\n",
    "if Firstlist is not Secondlist:\n",
    "  print(\"Both Firstlist and Secondlist variables are the same object\")\n",
    "else:\n",
    "  print(\"Both Firstlist and Secondlist variables are not the same object\")"
   ]
  },
  {
   "cell_type": "code",
   "execution_count": 29,
   "id": "2a5e3a4d-ddfb-4bd3-9d6f-29c6b4660978",
   "metadata": {},
   "outputs": [
    {
     "name": "stdout",
     "output_type": "stream",
     "text": [
      "Both a and b are greater than zero\n"
     ]
    }
   ],
   "source": [
    "a = 32\n",
    "b = 132\n",
    "if a > 0 and b > 0:\n",
    "  print(\"Both a and b are greater than zero\")\n",
    "else:\n",
    "  print(\"At least one variable is less than 0\")"
   ]
  },
  {
   "cell_type": "code",
   "execution_count": 33,
   "id": "b173a134-b7cd-4444-ad49-1a98dd94328c",
   "metadata": {},
   "outputs": [
    {
     "name": "stdout",
     "output_type": "stream",
     "text": [
      "At least one variable is greater than zero\n"
     ]
    }
   ],
   "source": [
    "a = 32\n",
    "b = -32\n",
    "if a > 0 or b > 0:\n",
    "  print(\"At least one variable is greater than zero\")\n",
    "else:\n",
    "  print(\"Both variables are less than 0\")"
   ]
  },
  {
   "cell_type": "code",
   "execution_count": 34,
   "id": "6a083748-2d6a-4fdc-9270-a3cf7c7de261",
   "metadata": {},
   "outputs": [
    {
     "name": "stdout",
     "output_type": "stream",
     "text": [
      "Boolean value of a is True\n"
     ]
    }
   ],
   "source": [
    "a = 32\n",
    "if not a:\n",
    "  print(\"Boolean value of a is False\")\n",
    "else:\n",
    "  print(\"Boolean value of a is True\")"
   ]
  },
  {
   "cell_type": "code",
   "execution_count": 35,
   "id": "b7b407cd-e9dc-455f-95ad-bf5f3ff411be",
   "metadata": {},
   "outputs": [],
   "source": [
    "#Tuples are used to store multiple items in a single variable. \n",
    "#It is a read-only collection where data is ordered (zero-based indexing) and unchangeable/immutable \n",
    "#(items cannot be added, modified, removed). \n",
    "#Duplicate values are allowed in a tuple, and elements can be of different types, similar to lists. \n",
    "#Tuples are used instead of lists when we wish to store the data that should not be changed in the program.\n",
    "\n",
    "my_tuple = (\"Shyam\", 23, True, \"male\")"
   ]
  },
  {
   "cell_type": "code",
   "execution_count": 40,
   "id": "6eb61831-3230-4317-af88-c025ceda5dd8",
   "metadata": {},
   "outputs": [],
   "source": [
    "#It stores the data in unordered {key-value} pairs; a key must be of a hashable and immutable data type, \n",
    "#and value can be any arbitrary Python object. In this context, an object is hashable if it has a hash value \n",
    "#that does not change during its lifetime in the program.\n",
    "#Items in the dictionary are enclosed in curly braces, {}, separated by a comma, and can be created\n",
    "#using the {key:value} syntax\n",
    "#Keys in dictionaries are case-sensitive, they should be unique, and cannot be duplicated; \n",
    "#however, the values in the dictionary can be duplicated. For example, the following code can be used to create a dictionary:\n",
    "my_dict = {'1': 'data',\n",
    "           '2': 'structure',\n",
    "           '3': 'python',\n",
    "           '4': 'programming',\n",
    "           '5': 'language'\n",
    "}\n"
   ]
  },
  {
   "cell_type": "code",
   "execution_count": 41,
   "id": "3f1548c7-df5e-4eab-91e6-d45f614f9abd",
   "metadata": {},
   "outputs": [
    {
     "name": "stdout",
     "output_type": "stream",
     "text": [
      "<class 'dict'>\n",
      "{'name': 'ABC', 'lastname': 'XYZ', 'age': 31, 'address': ['Jaipur']}\n",
      "ABC\n"
     ]
    }
   ],
   "source": [
    "#Creating a dictionary, and accessing elements from a dictionary\n",
    "person = {}\n",
    "print(type(person))\n",
    "person['name'] = 'ABC'\n",
    "person['lastname'] = 'XYZ'\n",
    "person['age'] = 31\n",
    "person['address'] = ['Jaipur']\n",
    "print(person)\n",
    "print(person['name'])"
   ]
  },
  {
   "cell_type": "code",
   "execution_count": 42,
   "id": "90f50715-b6dc-4a0e-b2fb-3e9d964b39cd",
   "metadata": {},
   "outputs": [
    {
     "name": "stdout",
     "output_type": "stream",
     "text": [
      "True\n",
      "True\n"
     ]
    }
   ],
   "source": [
    "print('name' in person)\n",
    "print('fname' not in person)"
   ]
  },
  {
   "cell_type": "code",
   "execution_count": 43,
   "id": "1e6a9302-b58e-4e2f-8405-4b90761ad607",
   "metadata": {},
   "outputs": [
    {
     "name": "stdout",
     "output_type": "stream",
     "text": [
      "4\n"
     ]
    }
   ],
   "source": [
    "print(len(person))"
   ]
  },
  {
   "cell_type": "code",
   "execution_count": 44,
   "id": "1b043cd2-1d40-46da-aa7c-d95b8827f1d9",
   "metadata": {},
   "outputs": [
    {
     "name": "stdout",
     "output_type": "stream",
     "text": [
      "{'a': 1, 'b': 2, 'c': 3}\n",
      "{}\n"
     ]
    }
   ],
   "source": [
    "mydict = {'a': 1, 'b': 2,\n",
    "'c': 3}\n",
    "print(mydict)\n",
    "mydict.clear()\n",
    "print(mydict)"
   ]
  },
  {
   "cell_type": "code",
   "execution_count": 45,
   "id": "89ad6563-a973-48a2-8543-8769c609a5a0",
   "metadata": {},
   "outputs": [
    {
     "name": "stdout",
     "output_type": "stream",
     "text": [
      "2\n",
      "{'a': 1, 'b': 2, 'c': 3}\n",
      "None\n"
     ]
    }
   ],
   "source": [
    "mydict = {'a': 1, 'b': 2,\n",
    "'c': 3}\n",
    "print(mydict.get('b'))\n",
    "print(mydict)\n",
    "print(mydict.get('z'))"
   ]
  },
  {
   "cell_type": "code",
   "execution_count": 49,
   "id": "4ed19002-194d-458d-9e61-65ee2edf745a",
   "metadata": {},
   "outputs": [
    {
     "name": "stdout",
     "output_type": "stream",
     "text": [
      "[('a', 1), ('b', 2), ('c', 3)]\n",
      "['a', 'b', 'c']\n",
      "[1, 2, 3]\n",
      "2\n",
      "{'a': 1, 'c': 3}\n"
     ]
    }
   ],
   "source": [
    "print(list(mydict.items()))\n",
    "print(list(mydict.keys()))\n",
    "print(list(mydict.values()))\n",
    "print(mydict.pop('b'))\n",
    "print(mydict)"
   ]
  },
  {
   "cell_type": "code",
   "execution_count": 50,
   "id": "59e07b53-55e1-48b9-9607-bf0e403261b1",
   "metadata": {},
   "outputs": [
    {
     "name": "stdout",
     "output_type": "stream",
     "text": [
      "('c', 3)\n",
      "{'a': 1, 'b': 2}\n"
     ]
    }
   ],
   "source": [
    "#mydict.popitem()removes the last key-value pair added in the dictionary and returns it as a tuple.\n",
    "mydict = {'a': 1,'b': 2,'c':\n",
    "3}\n",
    "print(mydict.popitem())\n",
    "print(mydict)"
   ]
  },
  {
   "cell_type": "code",
   "execution_count": 52,
   "id": "402c7baf-2513-415d-9934-3b677a43a393",
   "metadata": {},
   "outputs": [
    {
     "name": "stdout",
     "output_type": "stream",
     "text": [
      "None\n",
      "{'a': 10, 'b': 200, 'c': 30, 'd': 400}\n"
     ]
    }
   ],
   "source": [
    "#mydict.update(<obj>) Merges one dictionary with another. \n",
    "#Firstly, it checks whether a key of the second dictionary is present in\n",
    "#the first dictionary; the corresponding value is then updated. \n",
    "#If the key is not present in the first dictionary, then the key-value pair is added.\n",
    "d1 = {'a': 10, 'b': 20, 'c':\n",
    "30}\n",
    "d2 = {'b': 200, 'd': 400}\n",
    "print(d1.update(d2))\n",
    "print(d1)"
   ]
  },
  {
   "cell_type": "code",
   "execution_count": 53,
   "id": "f5deae83-22f1-4600-9752-cc3e3183970c",
   "metadata": {},
   "outputs": [
    {
     "name": "stdout",
     "output_type": "stream",
     "text": [
      "{'structure', 'python', 'data', 'and'}\n",
      "<class 'set'>\n",
      "{'structure', 'python', 'data', 'and'}\n"
     ]
    }
   ],
   "source": [
    "#A set is an unordered collection of hashable objects. It is iterable, mutable, and has unique elements. \n",
    "#The order of the elements is also not defined. While the addition and removal of items are allowed, \n",
    "#the items themselves within the set must be immutable and hashable. \n",
    "#Sets support membership testing operators (in, not in), and operations such as intersection, union, difference, and symmetric difference. \n",
    "#Sets cannot contain duplicate items. They are created by using the built-in set() function or curly braces {}. \n",
    "#A set() returns a set object from an iterable. \n",
    "x1 = set(['and', 'python', 'data', 'structure'])\n",
    "print(x1)\n",
    "print(type(x1))\n",
    "x2 = {'and', 'python', 'data', 'structure'}\n",
    "print(x2)"
   ]
  },
  {
   "cell_type": "code",
   "execution_count": 56,
   "id": "2d93a7b5-383a-457b-bc67-d05d1f6a7576",
   "metadata": {},
   "outputs": [
    {
     "name": "stdout",
     "output_type": "stream",
     "text": [
      "{'structure', 'python', 'data', 'and'}\n"
     ]
    }
   ],
   "source": [
    "x2 = {'and', 'python', 'data', 'structure'}\n",
    "print(x2)\n",
    "#sets are unordered data structures, and the order of items in sets is not preserved. "
   ]
  },
  {
   "cell_type": "code",
   "execution_count": 57,
   "id": "9e8e1249-d24c-4418-a12a-76a3da8cd047",
   "metadata": {},
   "outputs": [
    {
     "name": "stdout",
     "output_type": "stream",
     "text": [
      "{'structure', 'python', 'data', 'and'}\n"
     ]
    }
   ],
   "source": [
    "x3 = {'and', 'python', 'data', 'structure'}\n",
    "print(x3)\n",
    "#sets are unordered data structures, and the order of items in sets is not preserved. "
   ]
  },
  {
   "cell_type": "code",
   "execution_count": 58,
   "id": "60ce6fbc-4a9e-4c84-8f69-cde8f795edb4",
   "metadata": {},
   "outputs": [
    {
     "name": "stdout",
     "output_type": "stream",
     "text": [
      "4\n",
      "True\n"
     ]
    }
   ],
   "source": [
    "x = {'data', 'structure', 'and', 'python'}\n",
    "print(len(x))\n",
    "print('structure' in x)"
   ]
  },
  {
   "cell_type": "code",
   "execution_count": 60,
   "id": "f8fee306-ffa3-4bbf-8d42-302c912970ba",
   "metadata": {},
   "outputs": [
    {
     "name": "stdout",
     "output_type": "stream",
     "text": [
      "{'c', 'structure', 'python', 'data', 'java'}\n",
      "{'c', 'structure', 'python', 'data', 'java'}\n"
     ]
    }
   ],
   "source": [
    "#Union of two sets, x1 and x2. It can be done using two methods, \n",
    "#(1) using the | operator, (2) using the union method.\n",
    "x1 = {'data', 'structure'}\n",
    "x2 = {'python', 'java', 'c', 'data'}\n",
    "x3 = x1 | x2\n",
    "print(x3)\n",
    "print(x1.union(x2))"
   ]
  },
  {
   "cell_type": "code",
   "execution_count": 62,
   "id": "f967531f-ee72-40e9-b25f-6f6827106015",
   "metadata": {},
   "outputs": [
    {
     "name": "stdout",
     "output_type": "stream",
     "text": [
      "{'data'}\n",
      "{'data'}\n"
     ]
    }
   ],
   "source": [
    "#Intersection of sets: to compute the intersection of two sets, \n",
    "#an & operator and the intersection() method can be used, which returns a set of items common to both sets, x1 and x2.\n",
    "print(x1.intersection(x2))\n",
    "print(x1 & x2)"
   ]
  },
  {
   "cell_type": "code",
   "execution_count": 64,
   "id": "f13881b0-fe26-4fa8-9676-f089312bdd1a",
   "metadata": {},
   "outputs": [
    {
     "name": "stdout",
     "output_type": "stream",
     "text": [
      "{'structure'}\n",
      "{'structure'}\n"
     ]
    }
   ],
   "source": [
    "#returns a set of all elements that are in x1, but not in x2.\n",
    "print(x1.difference(x2))\n",
    "print(x1 - x2)"
   ]
  },
  {
   "cell_type": "code",
   "execution_count": 66,
   "id": "1dfc7232-4dd5-4158-8964-bd780909c863",
   "metadata": {},
   "outputs": [
    {
     "name": "stdout",
     "output_type": "stream",
     "text": [
      "{'structure', 'python', 'c', 'java'}\n",
      "{'structure', 'python', 'c', 'java'}\n"
     ]
    }
   ],
   "source": [
    "#Symmetric difference can be obtained using .symmetric_difference() , \n",
    "#while ^ returns a set of all data items that are present in either x1 or x2, but not both.\n",
    "print(x1.symmetric_difference(x2))\n",
    "print(x1 ^ x2)"
   ]
  },
  {
   "cell_type": "code",
   "execution_count": 68,
   "id": "567976f2-c942-4668-a06c-49bd42b32bcf",
   "metadata": {},
   "outputs": [
    {
     "name": "stdout",
     "output_type": "stream",
     "text": [
      "False\n",
      "False\n"
     ]
    }
   ],
   "source": [
    "#To test whether a set is a subset of another, use .issubset() and the operator <=.\n",
    "print(x1.issubset(x2))\n",
    "print(x1 <= x2)"
   ]
  },
  {
   "cell_type": "code",
   "execution_count": 69,
   "id": "662397a4-7b3e-4424-af36-7ea07bd2cced",
   "metadata": {},
   "outputs": [
    {
     "name": "stdout",
     "output_type": "stream",
     "text": [
      "frozenset({'python', 'structure', 'data', 'and'})\n"
     ]
    }
   ],
   "source": [
    "x = frozenset(['data', 'structure', 'and', 'python'])\n",
    "print(x)"
   ]
  },
  {
   "cell_type": "code",
   "execution_count": 70,
   "id": "fe0a4709-519f-4fbe-92e1-bdd35d9404d5",
   "metadata": {},
   "outputs": [
    {
     "ename": "TypeError",
     "evalue": "unhashable type: 'set'",
     "output_type": "error",
     "traceback": [
      "\u001b[0;31m---------------------------------------------------------------------------\u001b[0m",
      "\u001b[0;31mTypeError\u001b[0m                                 Traceback (most recent call last)",
      "Cell \u001b[0;32mIn[70], line 4\u001b[0m\n\u001b[1;32m      2\u001b[0m a21 \u001b[38;5;241m=\u001b[39m \u001b[38;5;28mset\u001b[39m([\u001b[38;5;124m'\u001b[39m\u001b[38;5;124mstructure\u001b[39m\u001b[38;5;124m'\u001b[39m])\n\u001b[1;32m      3\u001b[0m a31 \u001b[38;5;241m=\u001b[39m \u001b[38;5;28mset\u001b[39m([\u001b[38;5;124m'\u001b[39m\u001b[38;5;124mpython\u001b[39m\u001b[38;5;124m'\u001b[39m])\n\u001b[0;32m----> 4\u001b[0m x1 \u001b[38;5;241m=\u001b[39m {a11, a21, a31}\n",
      "\u001b[0;31mTypeError\u001b[0m: unhashable type: 'set'"
     ]
    }
   ],
   "source": [
    "a11 = set(['data'])\n",
    "a21 = set(['structure'])\n",
    "a31 = set(['python'])\n",
    "x1 = {a11, a21, a31}"
   ]
  },
  {
   "cell_type": "code",
   "execution_count": 72,
   "id": "7ff2ee35-a1b0-48df-a5da-348c180ae1b0",
   "metadata": {},
   "outputs": [
    {
     "name": "stdout",
     "output_type": "stream",
     "text": [
      "{frozenset({'structure'}), frozenset({'data'}), frozenset({'python'})}\n"
     ]
    }
   ],
   "source": [
    "a1 = frozenset(['data'])\n",
    "a2 = frozenset(['structure'])\n",
    "a3 = frozenset(['python'])\n",
    "x = {a1, a2, a3}\n",
    "print(x)\n",
    "#frozensets are immutable."
   ]
  },
  {
   "cell_type": "code",
   "execution_count": null,
   "id": "53884b07-8812-40fe-86a6-8c7abbbe7122",
   "metadata": {},
   "outputs": [],
   "source": []
  }
 ],
 "metadata": {
  "kernelspec": {
   "display_name": "Python 3 (ipykernel)",
   "language": "python",
   "name": "python3"
  },
  "language_info": {
   "codemirror_mode": {
    "name": "ipython",
    "version": 3
   },
   "file_extension": ".py",
   "mimetype": "text/x-python",
   "name": "python",
   "nbconvert_exporter": "python",
   "pygments_lexer": "ipython3",
   "version": "3.12.8"
  }
 },
 "nbformat": 4,
 "nbformat_minor": 5
}
