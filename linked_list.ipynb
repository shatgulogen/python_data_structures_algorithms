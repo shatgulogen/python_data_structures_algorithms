{
 "cells": [
  {
   "cell_type": "code",
   "execution_count": 1,
   "id": "2269b18e-a798-43a7-ac7e-a0af0dfdbcf3",
   "metadata": {},
   "outputs": [],
   "source": [
    "#Arrays\n",
    "#Introducing linked lists\n",
    "#Singly linked lists\n",
    "#Doubly linked lists\n",
    "#Circular lists\n",
    "#Practical applications of linked lists\n",
    "#the insertion and deletion operations in array data structures are slow as compared to linked lists"
   ]
  },
  {
   "cell_type": "code",
   "execution_count": null,
   "id": "755b9a11-d0e4-4cba-ac61-a1b447cdc3e7",
   "metadata": {
    "scrolled": true
   },
   "outputs": [],
   "source": [
    "#array\n",
    "#An array is a collection of data items of the same type, \n",
    "#whereas the array elements are stored in contiguous memory locations\n",
    "\n",
    "#linked list\n",
    "#linked list is a collection of the same data type stored sequentially and connected through pointers. \n",
    "#the data elements are stored in different memory locations\n",
    "#The length of the list can increase or decrease during the execution of the program."
   ]
  }
 ],
 "metadata": {
  "kernelspec": {
   "display_name": "Python 3 (ipykernel)",
   "language": "python",
   "name": "python3"
  },
  "language_info": {
   "codemirror_mode": {
    "name": "ipython",
    "version": 3
   },
   "file_extension": ".py",
   "mimetype": "text/x-python",
   "name": "python",
   "nbconvert_exporter": "python",
   "pygments_lexer": "ipython3",
   "version": "3.12.8"
  }
 },
 "nbformat": 4,
 "nbformat_minor": 5
}
